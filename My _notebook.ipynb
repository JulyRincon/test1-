{
 "cells": [
  {
   "cell_type": "markdown",
   "id": "b267e875-d5af-4dfb-9286-fc7fc32cac81",
   "metadata": {
    "tags": []
   },
   "source": [
    "1+1\n"
   ]
  },
  {
   "cell_type": "markdown",
   "id": "69367631-b26c-4cfc-aa29-3717bc29c4da",
   "metadata": {},
   "source": [
    "my Title "
   ]
  },
  {
   "cell_type": "code",
   "execution_count": null,
   "id": "83e2a2f7-f086-4cdc-afd6-0d3c9f4fc928",
   "metadata": {},
   "outputs": [],
   "source": [
    "\n",
    "\n"
   ]
  }
 ],
 "metadata": {
  "kernelspec": {
   "display_name": "Python",
   "language": "python",
   "name": "conda-env-python-py"
  },
  "language_info": {
   "codemirror_mode": {
    "name": "ipython",
    "version": 3
   },
   "file_extension": ".py",
   "mimetype": "text/x-python",
   "name": "python",
   "nbconvert_exporter": "python",
   "pygments_lexer": "ipython3",
   "version": "3.6.13"
  }
 },
 "nbformat": 4,
 "nbformat_minor": 5
}
